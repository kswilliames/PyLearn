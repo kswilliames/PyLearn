{
 "cells": [
  {
   "cell_type": "code",
   "execution_count": 1,
   "metadata": {
    "collapsed": false
   },
   "outputs": [
    {
     "name": "stdout",
     "output_type": "stream",
     "text": [
      "Distance between 11 Nicholson St, Carlton, Victoria 3053, Australia and 100 St Kilda Rd, Melbourne, Victoria 3004, Australia is 3649.98227819 metres\n"
     ]
    }
   ],
   "source": [
    "#final builds\n",
    "\n",
    "from geopy.geocoders import Nominatim\n",
    "import numpy as np\n",
    "\n",
    "#haversine function\n",
    "#input: a pair of coordinates\n",
    "#output: distance in metres according to haversine function - accurate to 4 significant figures\n",
    "def haversine(lat1,long1,lat2,long2):\n",
    "    R = 6371e3 #Earth's radius in metres\n",
    "    lat1 = np.radians(lat1)\n",
    "    lat2 = np.radians(lat2)\n",
    "    dlong = abs(np.radians(long2-long1))\n",
    "    dlat = abs(lat2-lat1)\n",
    "    a = np.sin(dlat/2)**2 + np.cos(lat1)*np.cos(lat2)*np.sin(dlong/2)**2\n",
    "    c = 2*np.arctan2(np.sqrt(a),np.sqrt(1-a))\n",
    "    c2 = np.sqrt(a),np.sqrt(1-a)\n",
    "    d = R * c\n",
    "    return d\n",
    "\n",
    "#input: two addresses\n",
    "#output: distance between two addresses (to 4 sigfigs)\n",
    "from geopy.geocoders import Nominatim\n",
    "def distance(address1,address2):\n",
    "    nom=Nominatim()\n",
    "    a = nom.geocode(address1,timeout=10)\n",
    "    b = nom.geocode(address2,timeout=10)\n",
    "    a_lat = a.latitude\n",
    "    a_long = a.longitude\n",
    "    b_lat = b.latitude\n",
    "    b_long = b.longitude\n",
    "    if a_lat == None or a_long == None:\n",
    "        return \"First address not found\"\n",
    "    elif b_lat == None or b_long == None:\n",
    "        return \"Second address not found\"\n",
    "    else:\n",
    "        return haversine(a_lat,a_long,b_lat,b_long)\n",
    "\n",
    "address1 = \"11 Nicholson St, Carlton, Victoria 3053, Australia\"\n",
    "address2 = \"100 St Kilda Rd, Melbourne, Victoria 3004, Australia\"\n",
    "print(\"Distance between\",address1,\"and\",address2,\"is\",distance(address1,address2),\"metres\")"
   ]
  },
  {
   "cell_type": "code",
   "execution_count": null,
   "metadata": {
    "collapsed": true
   },
   "outputs": [],
   "source": []
  }
 ],
 "metadata": {
  "kernelspec": {
   "display_name": "Python 3",
   "language": "python",
   "name": "python3"
  },
  "language_info": {
   "codemirror_mode": {
    "name": "ipython",
    "version": 3
   },
   "file_extension": ".py",
   "mimetype": "text/x-python",
   "name": "python",
   "nbconvert_exporter": "python",
   "pygments_lexer": "ipython3",
   "version": "3.6.0"
  }
 },
 "nbformat": 4,
 "nbformat_minor": 2
}
